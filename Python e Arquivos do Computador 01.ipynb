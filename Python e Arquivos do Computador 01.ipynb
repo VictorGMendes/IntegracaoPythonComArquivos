{
 "cells": [
  {
   "cell_type": "markdown",
   "metadata": {},
   "source": [
    "### Desafio\n",
    "\n",
    "Você trabalha em uma empresa que tem 18 lojas espalhadas por todo o Brasil e divididas em 5 estados diferentes:\n",
    "- RJ\n",
    "- SP\n",
    "- MG\n",
    "- GO\n",
    "- AM\n",
    "\n",
    "Todo trimestre, são calculados os indicadores de cada funcionário de cada loja e esses indicadores são armazenados em um arquivo em Excel.\n",
    "\n",
    "Cada estado tem 1 Gerente Geral responsável por todas as lojas daqueles estados.\n",
    "\n",
    "Pediram para você enviar para cada Gerente Geral todas as bases de indicadores correspondentes às lojas que ele é responsável, porque a equipe deles precisa desses indicadores.\n",
    "\n",
    "Então o seu desafio é separar todos os arquivos de forma que cada arquivo esteja na pasta do estado correspondente aquele arquivo.\n"
   ]
  },
  {
   "cell_type": "code",
   "execution_count": 1,
   "metadata": {},
   "outputs": [],
   "source": [
    "from pathlib import Path\n",
    "import shutil\n",
    "\n",
    "estados = ['RJ', 'SP', 'MG', 'GO', 'AM']\n",
    "\n",
    "#criando pastas\n",
    "Path('Pasta Estados').mkdir()\n",
    "\n",
    "for estado in estados:\n",
    "    Path(f'Pasta Estados/{estado}').mkdir()\n",
    "    \n"
   ]
  },
  {
   "cell_type": "code",
   "execution_count": 2,
   "metadata": {},
   "outputs": [],
   "source": [
    "caminho = Path('Arquivos_Lojas/')\n",
    "arquivos = caminho.iterdir()\n",
    "for arquivo in arquivos:\n",
    "    nome_arquivo = arquivo.name\n",
    "    if \"_SP\" in nome_arquivo:\n",
    "        shutil.move(arquivo, Path('Pasta Estados/SP'))\n",
    "    elif \"_RJ\" in nome_arquivo:\n",
    "        shutil.move(arquivo, Path('Pasta Estados/RJ'))\n",
    "    elif \"_MG\" in nome_arquivo:\n",
    "        shutil.move(arquivo, Path('Pasta Estados/MG'))\n",
    "    elif \"_GO\" in nome_arquivo:\n",
    "        shutil.move(arquivo, Path('Pasta Estados/GO'))\n",
    "    else :\n",
    "        shutil.move(arquivo, Path('Pasta Estados/AM'))"
   ]
  }
 ],
 "metadata": {
  "kernelspec": {
   "display_name": "Python 3 (ipykernel)",
   "language": "python",
   "name": "python3"
  },
  "language_info": {
   "codemirror_mode": {
    "name": "ipython",
    "version": 3
   },
   "file_extension": ".py",
   "mimetype": "text/x-python",
   "name": "python",
   "nbconvert_exporter": "python",
   "pygments_lexer": "ipython3",
   "version": "3.9.7"
  }
 },
 "nbformat": 4,
 "nbformat_minor": 4
}
